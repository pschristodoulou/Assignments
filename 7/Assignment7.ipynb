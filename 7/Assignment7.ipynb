{
 "cells": [
  {
   "cell_type": "markdown",
   "id": "ec193d88fe2b3c96",
   "metadata": {},
   "source": [
    "## initialization"
   ]
  },
  {
   "cell_type": "code",
   "execution_count": 1,
   "id": "initial_id",
   "metadata": {
    "collapsed": true,
    "jupyter": {
     "is_executing": true
    }
   },
   "outputs": [],
   "source": [
    "import numpy as np\n",
    "import matplotlib.pyplot as plt\n",
    "from scipy.linalg import sqrtm, block_diag\n",
    "import ipywidgets as widgets\n",
    "from tqdm import tqdm"
   ]
  },
  {
   "cell_type": "code",
   "execution_count": 2,
   "id": "5b8c4f88a211dd",
   "metadata": {
    "ExecuteTime": {
     "end_time": "2025-03-09T15:09:52.353617Z",
     "start_time": "2025-03-09T15:09:51.872257Z"
    }
   },
   "outputs": [
    {
     "name": "stdout",
     "output_type": "stream",
     "text": [
      "Using jax sqrtm for jax_sqrtm with backend  [CpuDevice(id=0)]\n"
     ]
    }
   ],
   "source": [
    "import ukf_voss\n",
    "import Assignment6"
   ]
  },
  {
   "cell_type": "code",
   "execution_count": null,
   "id": "18e8ce538cc8eab8",
   "metadata": {
    "ExecuteTime": {
     "end_time": "2025-03-09T15:10:00.234639Z",
     "start_time": "2025-03-09T15:10:00.230293Z"
    }
   },
   "outputs": [],
   "source": [
    "u0 = np.array([\n",
    "    [-0.1637, -0.2244, -0.1982, -0.1410, -0.1029, -0.0811, -0.0656, -0.0396],\n",
    "    [-0.2593, -0.3580, -0.3021, -0.2008, -0.1321, -0.1028, -0.0840, -0.0516],\n",
    "    [-0.2444, -0.3386, -0.2746, -0.1726, -0.0950, -0.0742, -0.0637, -0.0417],\n",
    "    [-0.0055, -0.0383, 0.0012, -0.0657, -0.0395, -0.0388, -0.0387, -0.0270],\n",
    "    [0.2361, 0.3685, 0.2616, 0.2237, 0.0279, -0.0174, -0.0239, -0.0183],\n",
    "    [0.4698, 0.7002, 0.5627, 0.2726, 0.0939, -0.0071, -0.0171, -0.0135],\n",
    "    [0.3618, 0.5613, 0.4323, 0.2754, 0.0673, -0.0056, -0.0130, -0.0104],\n",
    "    [0.2442, 0.2669, 0.2571, 0.1067, 0.0152, -0.0049, -0.0077, -0.0061]\n",
    "])\n",
    "\n",
    "a0 = np.array([\n",
    "    [0.4104, 0.5339, 0.4345, 0.2786, 0.1904, 0.1454, 0.1157, 0.0694],\n",
    "    [0.7058, 0.9183, 0.6974, 0.4049, 0.2427, 0.1821, 0.1465, 0.0893],\n",
    "    [0.9263, 1.1846, 0.8515, 0.4104, 0.1757, 0.1283, 0.1085, 0.0707],\n",
    "    [1.0750, 1.4204, 1.0146, 0.4695, 0.0921, 0.0646, 0.0636, 0.0444],\n",
    "    [1.0367, 1.4612, 0.9507, 0.4993, 0.0532, 0.0309, 0.0380, 0.0293],\n",
    "    [0.7878, 1.1079, 0.7914, 0.3707, 0.0468, 0.0205, 0.0267, 0.0213],\n",
    "    [0.4156, 0.5573, 0.4218, 0.1886, 0.0255, 0.0150, 0.0202, 0.0162],\n",
    "    [0.1386, 0.1823, 0.1406, 0.0437, 0.0083, 0.0090, 0.0119, 0.0095]\n",
    "])\n",
    "\n",
    "i0 = np.concatenate((u0.ravel(), a0.ravel()))"
   ]
  },
  {
   "cell_type": "markdown",
   "id": "5cfaff9dc23dec0b",
   "metadata": {},
   "source": [
    "## running the filter"
   ]
  },
  {
   "cell_type": "code",
   "execution_count": 4,
   "id": "6d059f4c06222b0d",
   "metadata": {
    "ExecuteTime": {
     "end_time": "2025-03-09T15:10:01.604343Z",
     "start_time": "2025-03-09T15:10:01.463447Z"
    }
   },
   "outputs": [],
   "source": [
    "noise_factor = 1.\n",
    "obs_noise = 0.2 * np.sqrt(noise_factor)\n",
    "nature0 = Assignment6.WilsonCowanNature(ll=800, dT=0.01, dt=0.001, initial_condition=i0, run_until=799, obs_noise=obs_noise)"
   ]
  },
  {
   "cell_type": "code",
   "execution_count": 5,
   "id": "7afa76b68208e7f2",
   "metadata": {
    "ExecuteTime": {
     "end_time": "2025-03-09T15:10:48.725705Z",
     "start_time": "2025-03-09T15:10:04.516567Z"
    }
   },
   "outputs": [
    {
     "name": "stderr",
     "output_type": "stream",
     "text": [
      "100%|██████████| 799/799 [02:37<00:00,  5.08it/s]\n"
     ]
    }
   ],
   "source": [
    "noise_factor = 1\n",
    "obs_noise = 0.2 * np.sqrt(noise_factor)\n",
    "\n",
    "f = 8\n",
    "g = 8\n",
    "q = 0.015\n",
    "variance_inflate = 1.3\n",
    "# Q_par = np.diag([q, q])\n",
    "Q_par0 = np.array([])\n",
    "# Q_var0 = np.diag((nature.R * variance_inflate, ) * 2 * f * g)\n",
    "Q_var0 = (variance_inflate\n",
    "\t\t  * np.cov(nature0.x0))\n",
    "wilson_cowan_model = Assignment6.WilsonCowanModelWithParameterTracking(Q_par=Q_par0, Q_var=Q_var0, R=nature0.R)\n",
    "uk_filter = ukf_voss.UKFVoss(model=wilson_cowan_model, ll=800, dT=0.01, dt=0.001, variance_inflation=1.02)\n",
    "x_hat_orig, Pxx_orig, Ks_orig, errors_orig = uk_filter.filter(nature0.y, initial_condition=i0, run_until=799)"
   ]
  },
  {
   "cell_type": "code",
   "execution_count": 6,
   "id": "152be0b4d793edd9",
   "metadata": {
    "ExecuteTime": {
     "end_time": "2025-03-09T15:11:21.719851Z",
     "start_time": "2025-03-09T15:11:21.633852Z"
    }
   },
   "outputs": [
    {
     "data": {
      "application/vnd.jupyter.widget-view+json": {
       "model_id": "e9d18b8f124d40a0b218586689341c10",
       "version_major": 2,
       "version_minor": 0
      },
      "text/plain": [
       "interactive(children=(IntSlider(value=0, description='i', max=798), Output()), _dom_classes=('widget-interact'…"
      ]
     },
     "metadata": {},
     "output_type": "display_data"
    }
   ],
   "source": [
    "@widgets.interact(i=(0, 799 - 1))\n",
    "def img_render(i=0):\n",
    "\t# fig, ax = plt.subplots(1, 3, figsize=(12, 8))\n",
    "\tplt.subplot(1, 3, 1)\n",
    "\tplt.imshow(nature0.x0[:64, i].reshape((8, 8)))\n",
    "\tplt.clim(0, nature0.x0[:64, :].max())\n",
    "\n",
    "\tplt.subplot(1, 3, 2)\n",
    "\tplt.imshow(x_hat_orig[:64, i].reshape((8, 8)))\n",
    "\tplt.clim(0, nature0.x0[:64, :].max())\n",
    "\tplt.subplot(1, 3, 3)\n",
    "\tplt.imshow(nature0.y[:64, i].reshape((8, 8)))\n",
    "\tplt.clim(0, nature0.x0[:64, :].max())"
   ]
  },
  {
   "cell_type": "markdown",
   "id": "552c45313206a38a",
   "metadata": {},
   "source": [
    "## control without Kalman"
   ]
  },
  {
   "cell_type": "code",
   "execution_count": 7,
   "id": "c6a7fa5d30dc0f4c",
   "metadata": {
    "ExecuteTime": {
     "end_time": "2025-03-09T15:13:23.824715Z",
     "start_time": "2025-03-09T15:13:23.530965Z"
    }
   },
   "outputs": [],
   "source": [
    "# control without Kalman\n",
    "noise_factor = 1\n",
    "obs_noise = 0.2 * np.sqrt(noise_factor)\n",
    "gain = -0.044\n",
    "nature_ctrl_nok = Assignment6.WilsonCowanNature(ll=800, dT=0.01, dt=0.001, initial_condition=i0, run_until=100, obs_noise=obs_noise)\n",
    "nature_no_ctrl = Assignment6.WilsonCowanNature(ll=1600, dT=0.01, dt=0.001, initial_condition=i0, run_until=800, obs_noise=obs_noise)\n",
    "\n",
    "for n in range(100,799):\n",
    "\tnature_ctrl_nok.integrate_solveivp(run_until=n)\n",
    "\tnature_ctrl_nok.observations(n, n+1)\n",
    "\tnature_ctrl_nok.set_control(gain*nature_ctrl_nok.y[:,n])\n"
   ]
  },
  {
   "cell_type": "code",
   "execution_count": 8,
   "id": "88fba9909c23a6b7",
   "metadata": {
    "ExecuteTime": {
     "end_time": "2025-03-09T15:12:13.957814Z",
     "start_time": "2025-03-09T15:12:13.895039Z"
    }
   },
   "outputs": [
    {
     "data": {
      "application/vnd.jupyter.widget-view+json": {
       "model_id": "5f1de5e42d9a424f8ea0e61281b679d9",
       "version_major": 2,
       "version_minor": 0
      },
      "text/plain": [
       "interactive(children=(IntSlider(value=0, description='i', max=798), Output()), _dom_classes=('widget-interact'…"
      ]
     },
     "metadata": {},
     "output_type": "display_data"
    }
   ],
   "source": [
    "nature = nature_ctrl_nok\n",
    "\n",
    "@widgets.interact(i=(0, 799-1))\n",
    "def img_render(i=0):\n",
    "\tplt.subplot(1, 2, 1)\n",
    "\tplt.imshow(nature.x0[:64,i].reshape((8,8)))\n",
    "\tplt.clim(0, nature.x0[:64,:].max())\n",
    "\tplt.subplot(1, 2, 2)\n",
    "\tplt.imshow(nature_ctrl_nok.x0[:64,i].reshape((8,8)))\n",
    "\tplt.clim(0, nature_ctrl_nok.x0[:64,:].max())"
   ]
  },
  {
   "cell_type": "markdown",
   "id": "4ae4fcee8be366c8",
   "metadata": {},
   "source": [
    "## Control with Kalman"
   ]
  },
  {
   "cell_type": "code",
   "execution_count": 9,
   "id": "71b14f5196ef5d6d",
   "metadata": {
    "ExecuteTime": {
     "end_time": "2025-03-09T15:14:20.946178Z",
     "start_time": "2025-03-09T15:13:32.908689Z"
    }
   },
   "outputs": [
    {
     "name": "stderr",
     "output_type": "stream",
     "text": [
      "100%|██████████| 800/800 [02:41<00:00,  4.96it/s]\n"
     ]
    }
   ],
   "source": [
    "# control with Kalman\n",
    "noise_factor = 1\n",
    "obs_noise = 0.2 * np.sqrt(noise_factor)\n",
    "# gain = 0.0003\n",
    "gain = -0.015\n",
    "variance_inflate = 2.\n",
    "baseline_run = 800\n",
    "total_duration = 7000\n",
    "nature_no_ctrl = Assignment6.WilsonCowanNature(ll=total_duration, dT=0.01, dt=0.001, initial_condition=i0, obs_noise=obs_noise, run_until=total_duration-1)\n",
    "\n",
    "nature_ctrl_k = Assignment6.WilsonCowanNature(ll=total_duration, dT=0.01, dt=0.001, initial_condition=i0, run_until=baseline_run, obs_noise=obs_noise)\n",
    "\n",
    "Q_par = np.array([])\n",
    "#Q_var0 = np.diag((nature.R * variance_inflate, ) * 2 * f * g)\n",
    "Q_var = variance_inflate * np.cov(nature_ctrl_k.x0[:, :baseline_run])\n",
    "\n",
    "wilson_cowan_model = Assignment6.WilsonCowanModelWithParameterTracking(Q_par=Q_par, Q_var=Q_var, R=nature_ctrl_k.R)\n",
    "uk_filter = ukf_voss.UKFVoss(model=wilson_cowan_model, ll=total_duration, dT=0.01, dt=0.001, variance_inflation=40.)\n",
    "x_hat0, Pxx0, Ks0, errors0 = uk_filter.filter(nature_ctrl_k.y, initial_condition=i0, run_until=baseline_run,\n",
    " \t\t\t\t\t\t\t\t\t\t\t\tdisable_progress=False)"
   ]
  },
  {
   "cell_type": "code",
   "execution_count": 10,
   "id": "ae15a00bf25da75f",
   "metadata": {
    "ExecuteTime": {
     "end_time": "2025-03-09T15:20:45.579405Z",
     "start_time": "2025-03-09T15:14:41.005545Z"
    }
   },
   "outputs": [
    {
     "name": "stderr",
     "output_type": "stream",
     "text": [
      "100%|██████████| 6197/6197 [21:00<00:00,  4.92it/s]\n"
     ]
    }
   ],
   "source": [
    "for n in tqdm(range(baseline_run+1, total_duration-2)):\n",
    "\tnature_ctrl_k.integrate_solveivp(run_until=n)\n",
    "\t# control = gain*nature.y[:,n]  # non-Kalman control\n",
    "\tcontrol = gain * x_hat0[:64, n-1]  # main difference\n",
    "\t# x_hat: output of filter, nature.y: observation\n",
    "\t\n",
    "\tnature_ctrl_k.set_control(control)\n",
    "\twilson_cowan_model.set_control(control)\n",
    "\tx_hat0, Pxx0, Ks0, errors0 = uk_filter.filter(nature_ctrl_k.y, initial_condition=None, run_until=n,\n",
    "\t\t\t\t\t\t\t\t\t\t\t\t  disable_progress=True)"
   ]
  },
  {
   "cell_type": "code",
   "execution_count": 11,
   "id": "96eeb2d11f412b19",
   "metadata": {
    "ExecuteTime": {
     "end_time": "2025-03-09T15:21:07.695155Z",
     "start_time": "2025-03-09T15:21:07.627823Z"
    }
   },
   "outputs": [
    {
     "data": {
      "text/plain": [
       "<matplotlib.legend.Legend at 0x161009eb380>"
      ]
     },
     "execution_count": 11,
     "metadata": {},
     "output_type": "execute_result"
    },
    {
     "data": {
      "image/png": "[encoded data removed]",
      "text/plain": [
       "<Figure size 640x480 with 1 Axes>"
      ]
     },
     "metadata": {},
     "output_type": "display_data"
    }
   ],
   "source": [
    "plt.plot(nature_no_ctrl.x0[35, :], label='no control')\n",
    "plt.plot(nature_ctrl_k.x0[35, :], label='control')\n",
    "plt.legend()"
   ]
  },
  {
   "cell_type": "code",
   "execution_count": 12,
   "id": "834929bd785edc84",
   "metadata": {
    "ExecuteTime": {
     "end_time": "2025-03-09T15:21:17.678626Z",
     "start_time": "2025-03-09T15:21:17.543757Z"
    }
   },
   "outputs": [
    {
     "data": {
      "application/vnd.jupyter.widget-view+json": {
       "model_id": "79ec89f3e04746a5afd1e727d5776192",
       "version_major": 2,
       "version_minor": 0
      },
      "text/plain": [
       "interactive(children=(IntSlider(value=0, description='i', max=6998), Output()), _dom_classes=('widget-interact…"
      ]
     },
     "metadata": {},
     "output_type": "display_data"
    }
   ],
   "source": [
    "@widgets.interact(i=(0, total_duration - 2))\n",
    "def img_render(i=0):\n",
    "\t# fig, ax = plt.subplots(1, 3, figsize=(12, 8))\n",
    "\tplt.subplot(1, 4, 1)\n",
    "\tplt.imshow(nature_ctrl_k.x0[:64, i].reshape((8, 8)))\n",
    "\tplt.clim(0, nature_no_ctrl.x0[:64, :].max())\n",
    "\n",
    "\tplt.subplot(1, 4, 2)\n",
    "\tplt.imshow(x_hat0[:64, i].reshape((8, 8)))\n",
    "\tplt.clim(0, nature_no_ctrl.x0[:64, i].max())\n",
    "\tplt.subplot(1, 4, 3)\n",
    "\tplt.imshow(nature_ctrl_k.y[:64, i].reshape((8, 8)))\n",
    "\tplt.clim(0, nature_no_ctrl.x0[:64, :].max())\n",
    "\n",
    "\tplt.subplot(1, 4, 4)\n",
    "\tplt.imshow(nature_no_ctrl.x0[:64, i].reshape((8, 8)))\n",
    "\tplt.clim(0, nature_no_ctrl.x0[:64, :].max())\n"
   ]
  },
  {
   "cell_type": "code",
   "execution_count": 13,
   "id": "17a171cf5d217073",
   "metadata": {
    "ExecuteTime": {
     "end_time": "2025-03-09T15:41:22.056463Z",
     "start_time": "2025-03-09T15:41:22.053721Z"
    }
   },
   "outputs": [],
   "source": [
    "Pxx_tr = np.trace(Pxx0, axis1=0, axis2=1)"
   ]
  },
  {
   "cell_type": "code",
   "execution_count": 14,
   "id": "3abf98d8533c6cd2",
   "metadata": {
    "ExecuteTime": {
     "end_time": "2025-03-09T15:41:23.761249Z",
     "start_time": "2025-03-09T15:41:23.705747Z"
    }
   },
   "outputs": [
    {
     "name": "stderr",
     "output_type": "stream",
     "text": [
      "C:\\Users\\ptrso\\AppData\\Local\\Temp\\ipykernel_14056\\1265832794.py:1: RuntimeWarning: divide by zero encountered in log\n",
      "  plt.plot(np.log(Pxx_tr))\n"
     ]
    },
    {
     "data": {
      "text/plain": [
       "[<matplotlib.lines.Line2D at 0x16110574b90>]"
      ]
     },
     "execution_count": 14,
     "metadata": {},
     "output_type": "execute_result"
    },
    {
     "data": {
      "image/png": "[encoded data removed]",
      "text/plain": [
       "<Figure size 640x480 with 1 Axes>"
      ]
     },
     "metadata": {},
     "output_type": "display_data"
    }
   ],
   "source": [
    "plt.plot(np.log(Pxx_tr))"
   ]
  },
  {
   "cell_type": "markdown",
   "id": "62e4d044b2be16a0",
   "metadata": {},
   "source": [
    "### 2) Grid size 6 x 6"
   ]
  },
  {
   "cell_type": "code",
   "execution_count": 15,
   "id": "9cdc8ac3",
   "metadata": {},
   "outputs": [
    {
     "name": "stderr",
     "output_type": "stream",
     "text": [
      "100%|██████████| 800/800 [01:16<00:00, 10.52it/s]\n"
     ]
    }
   ],
   "source": [
    "import numpy as np\n",
    "from Assignment6 import WilsonCowanNature, WilsonCowanModelWithParameterTracking\n",
    "import ukf_voss\n",
    "from tqdm import tqdm\n",
    "import matplotlib.pyplot as plt\n",
    "\n",
    "# Grid size\n",
    "f, g = 6, 6\n",
    "\n",
    "# Keep the spiral wave by center-cropping original 8×8 initial conditions\n",
    "u0_6x6 = u0[1:7, 1:7]\n",
    "a0_6x6 = a0[1:7, 1:7]\n",
    "i0_6x6 = np.concatenate((u0_6x6.ravel(), a0_6x6.ravel()))\n",
    "\n",
    "# Initial condition check\n",
    "# print(\"Initial condition shape:\", i0_6x6.shape)\n",
    "# print(i0.shape)\n",
    "# print(u0.shape, u0_6x6.shape)\n",
    "\n",
    "# Parameters\n",
    "noise_factor = 1\n",
    "obs_noise = 0.2  # * np.sqrt(noise_factor) # still same value\n",
    "gain = -0.015\n",
    "variance_inflate = 2.0\n",
    "var_inflate_ukf = 40.\n",
    "baseline_run = 800\n",
    "total_duration = 4000  # more reasonable runtime for smaller grid size\n",
    "dT = 0.01\n",
    "dt = 0.001\n",
    "\n",
    "# No control initiazation\n",
    "nature_no_ctrl = WilsonCowanNature(ll=total_duration, dT=dT, dt=dt,\n",
    "    f=f, g=g,\n",
    "    initial_condition=i0_6x6,\n",
    "    obs_noise=obs_noise, \n",
    "    run_until=total_duration-1\n",
    ")\n",
    "\n",
    "# Nature system\n",
    "nature_ctrl_k = WilsonCowanNature(ll=total_duration, dT=dT, dt=dt,\n",
    "    f=f, g=g,\n",
    "    initial_condition=i0_6x6,\n",
    "    run_until=baseline_run,\n",
    "    obs_noise=obs_noise\n",
    ")\n",
    "\n",
    "# Model system\n",
    "Q_par = np.array([])  # No parameter tracking yet\n",
    "Q_var = variance_inflate * np.cov(nature_ctrl_k.x0[:, :baseline_run])\n",
    "\n",
    "# Create the Wilson-Cowan model with parameter tracking\n",
    "wilson_cowan_model = WilsonCowanModelWithParameterTracking(\n",
    "    f=6, g=6,\n",
    "    Q_par=Q_par, Q_var=Q_var,\n",
    "    R=nature_ctrl_k.R)\n",
    "\n",
    "uk_filter = ukf_voss.UKFVoss(model=wilson_cowan_model, ll=total_duration, dT=0.01, dt=0.001, variance_inflation=var_inflate_ukf)\n",
    "x_hat0, Pxx0, Ks0, errors0 = uk_filter.filter(nature_ctrl_k.y, initial_condition=i0_6x6, run_until=baseline_run,\n",
    " \t\t\t\t\t\t\t\t\t\t\t\tdisable_progress=False)"
   ]
  },
  {
   "cell_type": "code",
   "execution_count": 16,
   "id": "ec10b883",
   "metadata": {},
   "outputs": [],
   "source": [
    "# # Control loop\n",
    "# for n in tqdm(range(baseline_run + 1, total_duration - 2)):\n",
    "#     control = gain * x_hat0[:f * g, n - 1]\n",
    "#     nature_ctrl_k.set_control(control)\n",
    "#     wilson_cowan_model.set_control(control)\n",
    "    \n",
    "#     nature_ctrl_k.integrate_solveivp(run_until=n)\n",
    "    \n",
    "#     x_hat0, Pxx0, Ks0, errors0 = uk_filter.filter(nature_ctrl_k.y, initial_condition=None,\n",
    "#         run_until=n, disable_progress=True)"
   ]
  },
  {
   "cell_type": "code",
   "execution_count": 17,
   "id": "737c32c3",
   "metadata": {},
   "outputs": [
    {
     "name": "stderr",
     "output_type": "stream",
     "text": [
      "100%|██████████| 3197/3197 [05:15<00:00, 10.12it/s]\n"
     ]
    }
   ],
   "source": [
    "for n in tqdm(range(baseline_run + 1, total_duration - 2)):\n",
    "    \n",
    "    nature_ctrl_k.integrate_solveivp(run_until=n)\n",
    "                                     \n",
    "    control = gain * x_hat0[:f * g, n - 1]\n",
    "    nature_ctrl_k.set_control(control)\n",
    "    wilson_cowan_model.set_control(control)\n",
    "    \n",
    "    x_hat0, Pxx0, Ks0, errors0 = uk_filter.filter(nature_ctrl_k.y, initial_condition=None,\n",
    "        run_until=n, disable_progress=True)"
   ]
  },
  {
   "cell_type": "code",
   "execution_count": 18,
   "id": "b1fad500",
   "metadata": {},
   "outputs": [
    {
     "data": {
      "application/vnd.jupyter.widget-view+json": {
       "model_id": "d97cce4a3223452190c323a00a537e6e",
       "version_major": 2,
       "version_minor": 0
      },
      "text/plain": [
       "interactive(children=(IntSlider(value=0, description='i', max=3998), Output()), _dom_classes=('widget-interact…"
      ]
     },
     "metadata": {},
     "output_type": "display_data"
    }
   ],
   "source": [
    "import ipywidgets as widgets\n",
    "import matplotlib.pyplot as plt\n",
    "\n",
    "@widgets.interact(i=(0, total_duration - 2))\n",
    "def img_render(i=0):\n",
    "    plt.figure(figsize=(12, 4))\n",
    "\n",
    "    # True system state (with control)\n",
    "    plt.subplot(1, 4, 1)\n",
    "    plt.title(\"True x (controlled)\")\n",
    "    plt.imshow(nature_ctrl_k.x0[:f*g, i].reshape((f, g)))\n",
    "    plt.clim(0, nature_no_ctrl.x0[:36, :].max())    \n",
    "    plt.colorbar()\n",
    "\n",
    "    # UKF estimate\n",
    "    plt.subplot(1, 4, 2)\n",
    "    plt.title(\"UKF x̂\")\n",
    "    plt.imshow(x_hat0[:f*g, i].reshape((f, g)))\n",
    "    plt.clim(0, nature_no_ctrl.x0[:36, :].max())\n",
    "    plt.colorbar()\n",
    "\n",
    "    # Noisy observation\n",
    "    plt.subplot(1, 4, 3)\n",
    "    plt.title(\"Observation y\")\n",
    "    plt.imshow(nature_ctrl_k.y[:f*g, i].reshape((f, g)))\n",
    "    plt.clim(0, nature_no_ctrl.x0[:36, :].max())\n",
    "    plt.colorbar()\n",
    "\n",
    "    plt.subplot(1, 4, 4)\n",
    "    plt.title(f\"No control (x0)\")\n",
    "    plt.imshow(nature_no_ctrl.x0[:f*g, i].reshape((f, g)))\n",
    "    plt.clim(0, nature_no_ctrl.x0[:36, :].max())\n",
    "    plt.colorbar()\n",
    "\n",
    "    plt.tight_layout()\n",
    "    plt.show()\n"
   ]
  },
  {
   "cell_type": "markdown",
   "id": "826320d6",
   "metadata": {},
   "source": [
    "Checking the effect of smalelr gain on the 6 x 6 grid"
   ]
  },
  {
   "cell_type": "code",
   "execution_count": 21,
   "id": "1e8ce1a7",
   "metadata": {},
   "outputs": [
    {
     "name": "stderr",
     "output_type": "stream",
     "text": [
      "100%|██████████| 800/800 [01:09<00:00, 11.44it/s]\n"
     ]
    }
   ],
   "source": [
    "import numpy as np\n",
    "from Assignment6 import WilsonCowanNature, WilsonCowanModelWithParameterTracking\n",
    "import ukf_voss\n",
    "from tqdm import tqdm\n",
    "import matplotlib.pyplot as plt\n",
    "\n",
    "# Grid size\n",
    "f, g = 6, 6\n",
    "\n",
    "# Keep the spiral wave by center-cropping original 8×8 initial conditions\n",
    "u0_6x6 = u0[1:7, 1:7]\n",
    "a0_6x6 = a0[1:7, 1:7]\n",
    "i0_6x6 = np.concatenate((u0_6x6.ravel(), a0_6x6.ravel()))\n",
    "\n",
    "# Parameters\n",
    "noise_factor = 1\n",
    "obs_noise = 0.2  \n",
    "gain = -0.0005 #  G = -0.00004 slow down G = -0.005 stop for 8x8\n",
    "variance_inflate = 2.0\n",
    "var_inflate_ukf = 40.\n",
    "baseline_run = 800\n",
    "total_duration = 4000  # more reasonable runtime for smaller grid size\n",
    "dT = 0.01\n",
    "dt = 0.001\n",
    "\n",
    "# No control initiazation\n",
    "nature_no_ctrl = WilsonCowanNature(ll=total_duration, dT=dT, dt=dt,\n",
    "    f=f, g=g,\n",
    "    initial_condition=i0_6x6,\n",
    "    obs_noise=obs_noise, \n",
    "    run_until=total_duration-1\n",
    ")\n",
    "\n",
    "# Nature system\n",
    "nature_ctrl_k = WilsonCowanNature(ll=total_duration, dT=dT, dt=dt,\n",
    "    f=f, g=g,\n",
    "    initial_condition=i0_6x6,\n",
    "    run_until=baseline_run,\n",
    "    obs_noise=obs_noise\n",
    ")\n",
    "\n",
    "# Model system\n",
    "Q_par = np.array([])  # No parameter tracking yet\n",
    "Q_var = variance_inflate * np.cov(nature_ctrl_k.x0[:, :baseline_run])\n",
    "\n",
    "# Create the Wilson-Cowan model with parameter tracking\n",
    "wilson_cowan_model = WilsonCowanModelWithParameterTracking(\n",
    "    f=6, g=6,\n",
    "    Q_par=Q_par, Q_var=Q_var,\n",
    "    R=nature_ctrl_k.R)\n",
    "\n",
    "uk_filter = ukf_voss.UKFVoss(model=wilson_cowan_model, ll=total_duration, dT=0.01, dt=0.001, variance_inflation=var_inflate_ukf)\n",
    "x_hat0, Pxx0, Ks0, errors0 = uk_filter.filter(nature_ctrl_k.y, initial_condition=i0_6x6, run_until=baseline_run,\n",
    " \t\t\t\t\t\t\t\t\t\t\t\tdisable_progress=False)"
   ]
  },
  {
   "cell_type": "code",
   "execution_count": 22,
   "id": "dd4e20d2",
   "metadata": {},
   "outputs": [
    {
     "name": "stderr",
     "output_type": "stream",
     "text": [
      "100%|██████████| 3197/3197 [04:51<00:00, 10.97it/s]\n"
     ]
    }
   ],
   "source": [
    "for n in tqdm(range(baseline_run + 1, total_duration - 2)):\n",
    "    nature_ctrl_k.integrate_solveivp(run_until=n)                              \n",
    "    control = gain * x_hat0[:f * g, n - 1]\n",
    "    nature_ctrl_k.set_control(control)\n",
    "    wilson_cowan_model.set_control(control)\n",
    "    x_hat0, Pxx0, Ks0, errors0 = uk_filter.filter(nature_ctrl_k.y, initial_condition=None,\n",
    "        run_until=n, disable_progress=True)"
   ]
  },
  {
   "cell_type": "code",
   "execution_count": 23,
   "id": "447b3f6d",
   "metadata": {},
   "outputs": [
    {
     "data": {
      "application/vnd.jupyter.widget-view+json": {
       "model_id": "9eede69a4c8c48c5bb9ce5b64ec08f73",
       "version_major": 2,
       "version_minor": 0
      },
      "text/plain": [
       "interactive(children=(IntSlider(value=0, description='i', max=3998), Output()), _dom_classes=('widget-interact…"
      ]
     },
     "metadata": {},
     "output_type": "display_data"
    }
   ],
   "source": [
    "import ipywidgets as widgets\n",
    "import matplotlib.pyplot as plt\n",
    "\n",
    "@widgets.interact(i=(0, total_duration - 2))\n",
    "def img_render(i=0):\n",
    "    plt.figure(figsize=(12, 4))\n",
    "\n",
    "    # True system state (with control)\n",
    "    plt.subplot(1, 4, 1)\n",
    "    plt.title(\"True x (controlled)\")\n",
    "    plt.imshow(nature_ctrl_k.x0[:f*g, i].reshape((f, g)))\n",
    "    plt.clim(0, nature_no_ctrl.x0[:36, :].max())    \n",
    "    plt.colorbar()\n",
    "\n",
    "    # UKF estimate\n",
    "    plt.subplot(1, 4, 2)\n",
    "    plt.title(\"UKF x̂\")\n",
    "    plt.imshow(x_hat0[:f*g, i].reshape((f, g)))\n",
    "    plt.clim(0, nature_no_ctrl.x0[:36, :].max())\n",
    "    plt.colorbar()\n",
    "\n",
    "    # Noisy observation\n",
    "    plt.subplot(1, 4, 3)\n",
    "    plt.title(\"Observation y\")\n",
    "    plt.imshow(nature_ctrl_k.y[:f*g, i].reshape((f, g)))\n",
    "    plt.clim(0, nature_no_ctrl.x0[:36, :].max())\n",
    "    plt.colorbar()\n",
    "\n",
    "    plt.subplot(1, 4, 4)\n",
    "    plt.title(f\"No control (x0)\")\n",
    "    plt.imshow(nature_no_ctrl.x0[:f*g, i].reshape((f, g)))\n",
    "    plt.clim(0, nature_no_ctrl.x0[:36, :].max())\n",
    "    plt.colorbar()\n",
    "\n",
    "    plt.tight_layout()\n",
    "    plt.show()\n"
   ]
  },
  {
   "cell_type": "markdown",
   "id": "c61fda94",
   "metadata": {},
   "source": [
    "Reducing the grid from 8×8 to 6×6 almost halves complexity, but the results are not sensible in terms of preserving spiral dynamics. The waves collapse around i ≈ 100 even without control, showing the grid is too small to support meaningful spatiotemporal activity."
   ]
  },
  {
   "cell_type": "markdown",
   "id": "39606748",
   "metadata": {},
   "source": [
    "### 3) Initial conditions"
   ]
  },
  {
   "cell_type": "code",
   "execution_count": 112,
   "id": "6a19871e",
   "metadata": {},
   "outputs": [],
   "source": [
    "import numpy as np\n",
    "import matplotlib.pyplot as plt\n",
    "from Assignment6 import WilsonCowanNature\n",
    "\n",
    "# Grid size\n",
    "f = g = 8\n",
    "x = np.linspace(-1, 1, f)\n",
    "X, Y = np.meshgrid(x, x)\n",
    "\n",
    "# --- 1D Gaussian Blob (along x-axis only) ---\n",
    "u0_1d = np.exp(-X**2 / 0.1)\n",
    "a0_1d = np.exp(-X**2 / 0.2)  # slightly wider\n",
    "\n",
    "# --- 2D Gaussian Blob ---\n",
    "u0_2d = np.exp(-(X**2 + Y**2) / 0.1)\n",
    "a0_2d = np.exp(-(X**2 + Y**2) / 0.2)  # slightly wider\n",
    "\n",
    "# Flatten into initial condition vector\n",
    "i0_1d = np.concatenate((u0_1d.ravel(), a0_1d.ravel()))\n",
    "i0_2d = np.concatenate((u0_2d.ravel(), a0_2d.ravel()))\n",
    "\n",
    "# Simulation settings\n",
    "dT = 0.01\n",
    "dt = 0.001\n",
    "total_duration = 4000\n",
    "obs_noise = 0.2\n",
    "\n",
    "# Create and run the nature system with chosen IC\n",
    "nature = WilsonCowanNature(ll=total_duration,dT=dT,dt=dt,f=f,g=g,initial_condition=i0_1d, \n",
    "                           obs_noise=obs_noise,run_until=total_duration - 1)\n"
   ]
  },
  {
   "cell_type": "code",
   "execution_count": 113,
   "id": "3a4c8c8b",
   "metadata": {},
   "outputs": [
    {
     "data": {
      "application/vnd.jupyter.widget-view+json": {
       "model_id": "92eea068c59c4e1ca1c8dcd2325a8ae5",
       "version_major": 2,
       "version_minor": 0
      },
      "text/plain": [
       "interactive(children=(IntSlider(value=0, description='i', max=3998), Output()), _dom_classes=('widget-interact…"
      ]
     },
     "metadata": {},
     "output_type": "display_data"
    }
   ],
   "source": [
    "import ipywidgets as widgets\n",
    "\n",
    "@widgets.interact(i=(0, total_duration - 2))\n",
    "def plot_blob_evolution(i=0):\n",
    "    plt.figure(figsize=(6, 6))\n",
    "    plt.title(f\"True state xₜ (u-layer) at t={i}\")\n",
    "    plt.imshow(nature.x0[:f*g, i].reshape((f, g)))\n",
    "    plt.clim(0, 1)\n",
    "    plt.colorbar()\n",
    "    plt.tight_layout()\n",
    "    plt.show()\n"
   ]
  },
  {
   "cell_type": "code",
   "execution_count": null,
   "id": "b03d6171",
   "metadata": {},
   "outputs": [
    {
     "name": "stdout",
     "output_type": "stream",
     "text": [
      "Initial i0 finite? True\n",
      "Observation y finite? True\n",
      "Nature x0 finite? True\n"
     ]
    },
    {
     "name": "stderr",
     "output_type": "stream",
     "text": [
      "100%|██████████| 800/800 [02:42<00:00,  4.94it/s]\n"
     ]
    }
   ],
   "source": [
    "# Re-run full 2D Gaussian blob setup after kernel reset\n",
    "\n",
    "import numpy as np\n",
    "import matplotlib.pyplot as plt\n",
    "from Assignment6 import WilsonCowanNature, WilsonCowanModelWithParameterTracking\n",
    "import ukf_voss\n",
    "from tqdm import tqdm\n",
    "\n",
    "# Grid size\n",
    "f = g = 8\n",
    "x = np.linspace(-1, 1, f)\n",
    "X, Y = np.meshgrid(x, x)\n",
    "\n",
    "# 2D Gaussian blob\n",
    "u0 = np.exp(-(X**2 + Y**2) / 0.1)\n",
    "a0 = np.exp(-(X**2 + Y**2) / 0.2)\n",
    "i0 = np.concatenate((u0.ravel(), a0.ravel()))\n",
    "\n",
    "# Simulation parameters\n",
    "dT = 0.01\n",
    "dt = 0.001\n",
    "total_duration = 4000\n",
    "baseline_run = 800\n",
    "obs_noise = 0.2\n",
    "gain = -0.015\n",
    "# To fix big issues with y0 going to infinity we decrease\n",
    "# otherwise it does not work\n",
    "variance_inflate = 0.2\n",
    "variance_inflation_ukf = 5.0\n",
    "\n",
    "# No control version (reference)\n",
    "nature_no_ctrl_blob = WilsonCowanNature(\n",
    "    ll=total_duration,\n",
    "    dT=dT,\n",
    "    dt=dt,\n",
    "    f=f,\n",
    "    g=g,\n",
    "    initial_condition=i0,\n",
    "    obs_noise=obs_noise,\n",
    "    run_until=total_duration - 1,\n",
    ")\n",
    "\n",
    "# Controlled system for UKF\n",
    "nature_ctrl_blob = WilsonCowanNature(\n",
    "    ll=total_duration,\n",
    "    dT=dT,\n",
    "    dt=dt,\n",
    "    f=f,\n",
    "    g=g,\n",
    "    initial_condition=i0,\n",
    "    obs_noise=obs_noise,\n",
    "    run_until=baseline_run,\n",
    ")\n",
    "\n",
    "# Estimate Q_var from initial run\n",
    "Q_par = np.array([])  # No parameter tracking\n",
    "Q_var = variance_inflate * np.cov(nature_ctrl_blob.x0[:, :baseline_run])\n",
    "\n",
    "# Set up model and UKF\n",
    "wilson_model_blob = WilsonCowanModelWithParameterTracking(\n",
    "    f=f,\n",
    "    g=g,\n",
    "    Q_par=Q_par,\n",
    "    Q_var=Q_var,\n",
    "    R=nature_ctrl_blob.R\n",
    ")\n",
    "\n",
    "ukf_blob = ukf_voss.UKFVoss(\n",
    "    model=wilson_model_blob,\n",
    "    ll=total_duration,\n",
    "    dT=dT,\n",
    "    dt=dt,\n",
    "    variance_inflation=variance_inflation_ukf\n",
    ")\n",
    "\n",
    "print(\"Initial i0 finite?\", np.all(np.isfinite(i0)))\n",
    "print(\"Observation y finite?\", np.all(np.isfinite(nature_ctrl_blob.y[:, :baseline_run])))\n",
    "print(\"Nature x0 finite?\", np.all(np.isfinite(nature_ctrl_blob.x0[:, :baseline_run])))\n",
    "\n",
    "# Run baseline UKF\n",
    "x_hat_blob, Pxx_blob, Ks_blob, errors_blob = ukf_blob.filter(\n",
    "    nature_ctrl_blob.y,\n",
    "    initial_condition=i0,\n",
    "    run_until=baseline_run,\n",
    "    disable_progress=False\n",
    ")\n"
   ]
  },
  {
   "cell_type": "code",
   "execution_count": 110,
   "id": "93796047",
   "metadata": {},
   "outputs": [
    {
     "name": "stderr",
     "output_type": "stream",
     "text": [
      "100%|██████████| 3197/3197 [10:48<00:00,  4.93it/s]\n"
     ]
    }
   ],
   "source": [
    "# Control loop after baseline\n",
    "# for n in tqdm(range(baseline_run + 1, total_duration - 2)):\n",
    "#     control = gain * x_hat_blob[:f * g, n - 1]\n",
    "\n",
    "#     if not np.all(np.isfinite(control)):\n",
    "#         print(f\"[STOP] Non-finite control at n={n}\")\n",
    "#         break\n",
    "\n",
    "#     nature_ctrl_blob.set_control(control)\n",
    "#     wilson_model_blob.set_control(control)\n",
    "\n",
    "    # if nature_ctrl_blob.current_time < n:\n",
    "    #     nature_ctrl_blob.integrate_solveivp(run_until=n)\n",
    "\n",
    "#     x_hat_blob, Pxx_blob, Ks_blob, errors_blob = ukf_blob.filter(\n",
    "#         nature_ctrl_blob.y,\n",
    "#         initial_condition=None,\n",
    "#         run_until=n,\n",
    "#         disable_progress=True\n",
    "#     )\n",
    "\n",
    "#     if not np.all(np.isfinite(x_hat_blob[:, n])):\n",
    "#         print(f\"[STOP] Kalman estimate blew up at n={n}\")\n",
    "#         break\n",
    "\n",
    "for n in tqdm(range(baseline_run + 1, total_duration - 2)):\n",
    "    if nature_ctrl_blob.current_time < n:\n",
    "        nature_ctrl_blob.integrate_solveivp(run_until=n)\n",
    "    control = gain * x_hat_blob[:f * g, n - 1]\n",
    "    nature_ctrl_blob.set_control(control)\n",
    "    wilson_model_blob.set_control(control)\n",
    "    x_hat_blob, Pxx_blob, Ks_blob, errors_blob = ukf_blob.filter(\n",
    "        nature_ctrl_blob.y,\n",
    "        initial_condition=None,\n",
    "        run_until=n,\n",
    "        disable_progress=True\n",
    "    )"
   ]
  },
  {
   "cell_type": "code",
   "execution_count": 111,
   "id": "19f4223c",
   "metadata": {},
   "outputs": [
    {
     "name": "stderr",
     "output_type": "stream",
     "text": [
      "<>:17: SyntaxWarning: invalid escape sequence '\\h'\n",
      "<>:17: SyntaxWarning: invalid escape sequence '\\h'\n",
      "C:\\Users\\ptrso\\AppData\\Local\\Temp\\ipykernel_14056\\3439506785.py:17: SyntaxWarning: invalid escape sequence '\\h'\n",
      "  plt.title(\"UKF $\\hat{x}$\")\n"
     ]
    },
    {
     "data": {
      "application/vnd.jupyter.widget-view+json": {
       "model_id": "fd20f9a0c17245a9afad80cc907804f9",
       "version_major": 2,
       "version_minor": 0
      },
      "text/plain": [
       "interactive(children=(IntSlider(value=0, description='i', max=798), Output()), _dom_classes=('widget-interact'…"
      ]
     },
     "metadata": {},
     "output_type": "display_data"
    }
   ],
   "source": [
    "import ipywidgets as widgets\n",
    "import matplotlib.pyplot as plt\n",
    "\n",
    "@widgets.interact(i=(0, baseline_run - 2))\n",
    "def img_render(i=0):\n",
    "    plt.figure(figsize=(12, 4))\n",
    "\n",
    "    # True system state (with control)\n",
    "    plt.subplot(1, 4, 1)\n",
    "    plt.title(\"True x (controlled)\")\n",
    "    plt.imshow(nature_ctrl_blob.x0[:f*g, i].reshape((f, g)))\n",
    "    plt.clim(0, nature_no_ctrl_blob.x0[:f*g, :].max())\n",
    "    plt.colorbar()\n",
    "\n",
    "    # UKF estimate\n",
    "    plt.subplot(1, 4, 2)\n",
    "    plt.title(\"UKF $\\hat{x}$\")\n",
    "    plt.imshow(x_hat_blob[:f*g, i].reshape((f, g)))\n",
    "    plt.clim(0, nature_no_ctrl_blob.x0[:f*g, :].max())\n",
    "    plt.colorbar()\n",
    "\n",
    "    # Noisy observation\n",
    "    plt.subplot(1, 4, 3)\n",
    "    plt.title(\"Observation y\")\n",
    "    plt.imshow(nature_ctrl_blob.y[:f*g, i].reshape((f, g)))\n",
    "    plt.clim(0, nature_no_ctrl_blob.x0[:f*g, :].max())\n",
    "    plt.colorbar()\n",
    "\n",
    "    # Uncontrolled system\n",
    "    plt.subplot(1, 4, 4)\n",
    "    plt.title(\"No control (x0)\")\n",
    "    plt.imshow(nature_no_ctrl_blob.x0[:f*g, i].reshape((f, g)))\n",
    "    plt.clim(0, nature_no_ctrl_blob.x0[:f*g, :].max())\n",
    "    plt.colorbar()\n"
   ]
  },
  {
   "cell_type": "code",
   "execution_count": 114,
   "id": "320f4cdb",
   "metadata": {},
   "outputs": [],
   "source": [
    "# Re-import necessary modules after reset\n",
    "import numpy as np\n",
    "import matplotlib.pyplot as plt\n",
    "from Assignment6 import WilsonCowanNature\n",
    "\n",
    "# Grid setup\n",
    "f = g = 8\n",
    "dT = 0.01\n",
    "dt = 0.001\n",
    "total_duration = 4000\n",
    "obs_noise = 0.2\n",
    "\n",
    "# Uniform IC\n",
    "u0_uniform = np.ones((f, g)) * 0.3\n",
    "a0_uniform = 0.3 * u0_uniform\n",
    "i0_uniform = np.concatenate((u0_uniform.ravel(), a0_uniform.ravel()))\n",
    "\n",
    "# Run the nature model (uniform)\n",
    "nature_uniform = WilsonCowanNature(\n",
    "    ll=total_duration,\n",
    "    dT=dT,\n",
    "    dt=dt,\n",
    "    f=f,\n",
    "    g=g,\n",
    "    initial_condition=i0_uniform,\n",
    "    obs_noise=obs_noise,\n",
    "    run_until=total_duration - 1,\n",
    "    # z=0.2,\n",
    "    # K=1.5\n",
    ")\n",
    "\n",
    "# Non-uniform IC (mild spatial randomness)\n",
    "u0_random = np.random.uniform(0.2, 0.4, size=(f, g))\n",
    "a0_random = 0.5 * u0_random\n",
    "i0_random = np.concatenate((u0_random.ravel(), a0_random.ravel()))\n",
    "\n",
    "nature_random = WilsonCowanNature(\n",
    "    ll=total_duration,\n",
    "    dT=dT,\n",
    "    dt=dt,\n",
    "    f=f,\n",
    "    g=g,\n",
    "    initial_condition=i0_random,\n",
    "    obs_noise=obs_noise,\n",
    "    run_until=total_duration - 1,\n",
    "    # z=0.2,\n",
    "    # K=1.5\n",
    ")\n"
   ]
  },
  {
   "cell_type": "code",
   "execution_count": 117,
   "id": "3c42c27f",
   "metadata": {},
   "outputs": [
    {
     "data": {
      "application/vnd.jupyter.widget-view+json": {
       "model_id": "065dccb4dd084d19afcda9ae9ab95ed1",
       "version_major": 2,
       "version_minor": 0
      },
      "text/plain": [
       "interactive(children=(IntSlider(value=0, description='i', max=3998), Output()), _dom_classes=('widget-interact…"
      ]
     },
     "metadata": {},
     "output_type": "display_data"
    },
    {
     "data": {
      "application/vnd.jupyter.widget-view+json": {
       "model_id": "3c4f94f545f343869a65eb9e72369475",
       "version_major": 2,
       "version_minor": 0
      },
      "text/plain": [
       "interactive(children=(IntSlider(value=0, description='i', max=3998), Output()), _dom_classes=('widget-interact…"
      ]
     },
     "metadata": {},
     "output_type": "display_data"
    }
   ],
   "source": [
    "import ipywidgets as widgets\n",
    "\n",
    "@widgets.interact(i=(0, total_duration - 2))\n",
    "def plot_non_uni_evolution(i=0):\n",
    "    plt.figure(figsize=(6, 6))\n",
    "    plt.title(f\"True state xₜ (u-layer) at t={i}\")\n",
    "    plt.imshow(nature_random.x0[:f*g, i].reshape((f, g)))\n",
    "    plt.clim(0, 1)\n",
    "    plt.colorbar()\n",
    "    plt.tight_layout()\n",
    "    plt.show()\n",
    "\n",
    "@widgets.interact(i=(0, total_duration - 2))\n",
    "def plot_non_uni_evolution(i=0):\n",
    "    plt.figure(figsize=(6, 6))\n",
    "    plt.title(f\"True state xₜ (u-layer) at t={i}\")\n",
    "    plt.imshow(nature_uniform.x0[:f*g, i].reshape((f, g)))\n",
    "    plt.clim(0, 1)\n",
    "    plt.colorbar()\n",
    "    plt.tight_layout()\n",
    "    plt.show()"
   ]
  },
  {
   "cell_type": "code",
   "execution_count": 120,
   "id": "64d9edbe",
   "metadata": {},
   "outputs": [
    {
     "name": "stderr",
     "output_type": "stream",
     "text": [
      "100%|██████████| 800/800 [02:57<00:00,  4.51it/s]\n"
     ]
    }
   ],
   "source": [
    "import numpy as np\n",
    "from Assignment6 import WilsonCowanNature, WilsonCowanModelWithParameterTracking\n",
    "import ukf_voss\n",
    "\n",
    "# Grid and parameters\n",
    "f = g = 8\n",
    "dT = 0.01\n",
    "dt = 0.001\n",
    "total_duration = 4000\n",
    "baseline_run = 800\n",
    "obs_noise = 0.2\n",
    "gain = -0.015\n",
    "variance_inflate = 2.0\n",
    "variance_inflation_ukf = 10.0\n",
    "\n",
    "# Non-uniform IC\n",
    "u0_random = np.random.uniform(0.2, 0.4, size=(f, g))\n",
    "a0_random = 0.5 * u0_random\n",
    "i0_random = np.concatenate((u0_random.ravel(), a0_random.ravel()))\n",
    "\n",
    "# Nature system without control (reference)\n",
    "nature_no_ctrl_rand = WilsonCowanNature(\n",
    "    ll=total_duration,\n",
    "    dT=dT,\n",
    "    dt=dt,\n",
    "    f=f,\n",
    "    g=g,\n",
    "    initial_condition=i0_random,\n",
    "    obs_noise=obs_noise,\n",
    "    run_until=total_duration - 1\n",
    ")\n",
    "\n",
    "# Nature system with control (baseline only)\n",
    "nature_ctrl_rand = WilsonCowanNature(\n",
    "    ll=total_duration,\n",
    "    dT=dT,\n",
    "    dt=dt,\n",
    "    f=f,\n",
    "    g=g,\n",
    "    initial_condition=i0_random,\n",
    "    obs_noise=obs_noise,\n",
    "    run_until=baseline_run\n",
    ")\n",
    "\n",
    "# Q matrix from baseline\n",
    "Q_par = np.array([])\n",
    "Q_var = variance_inflate * np.cov(nature_ctrl_rand.x0[:, :baseline_run])\n",
    "\n",
    "# Model and UKF\n",
    "model_rand = WilsonCowanModelWithParameterTracking(\n",
    "    f=f,\n",
    "    g=g,\n",
    "    Q_par=Q_par,\n",
    "    Q_var=Q_var,\n",
    "    R=nature_ctrl_rand.R\n",
    ")\n",
    "\n",
    "ukf_rand = ukf_voss.UKFVoss(\n",
    "    model=model_rand,\n",
    "    ll=total_duration,\n",
    "    dT=dT,\n",
    "    dt=dt,\n",
    "    variance_inflation=variance_inflation_ukf\n",
    ")\n",
    "\n",
    "# Initial Kalman filter pass\n",
    "x_hat_rand, Pxx_rand, Ks_rand, errors_rand = ukf_rand.filter(\n",
    "    nature_ctrl_rand.y,\n",
    "    initial_condition=i0_random,\n",
    "    run_until=baseline_run,\n",
    "    disable_progress=False\n",
    ")\n"
   ]
  },
  {
   "cell_type": "code",
   "execution_count": null,
   "id": "ad5566f7",
   "metadata": {},
   "outputs": [
    {
     "name": "stderr",
     "output_type": "stream",
     "text": [
      "100%|██████████| 3197/3197 [13:14<00:00,  4.02it/s]\n"
     ]
    }
   ],
   "source": [
    "from tqdm import tqdm\n",
    "\n",
    "for n in tqdm(range(baseline_run + 1, total_duration - 2)):\n",
    "    if nature_ctrl_rand.current_time < n:\n",
    "        nature_ctrl_rand.integrate_solveivp(run_until=n)\n",
    "    \n",
    "    control = gain * x_hat_rand[:f * g, n - 1]\n",
    "    nature_ctrl_rand.set_control(control)\n",
    "    model_rand.set_control(control)\n",
    "    x_hat_rand, Pxx_rand, Ks_rand, errors_rand = ukf_rand.filter(\n",
    "        nature_ctrl_rand.y,\n",
    "        initial_condition=None,\n",
    "        run_until=n,\n",
    "        disable_progress=True\n",
    "    )"
   ]
  },
  {
   "cell_type": "code",
   "execution_count": null,
   "id": "f82d7695",
   "metadata": {},
   "outputs": [
    {
     "data": {
      "text/plain": [
       "<Figure size 640x480 with 0 Axes>"
      ]
     },
     "metadata": {},
     "output_type": "display_data"
    },
    {
     "data": {
      "application/vnd.jupyter.widget-view+json": {
       "model_id": "d32728f08ba24db28c98cef4abddb069",
       "version_major": 2,
       "version_minor": 0
      },
      "text/plain": [
       "interactive(children=(IntSlider(value=0, description='i', max=3998), Output()), _dom_classes=('widget-interact…"
      ]
     },
     "metadata": {},
     "output_type": "display_data"
    }
   ],
   "source": [
    "import ipywidgets as widgets\n",
    "import matplotlib.pyplot as plt\n",
    "\n",
    "@widgets.interact(i=(0, total_duration - 2))\n",
    "def plot_rand(i=0):\n",
    "    plt.figure(figsize=(12, 4))\n",
    "\n",
    "    plt.subplot(1, 4, 1)\n",
    "    plt.title(\"True x (controlled)\")\n",
    "    plt.imshow(nature_ctrl_rand.x0[:f*g, i].reshape((f, g)))\n",
    "    plt.clim(0, nature_no_ctrl_rand.x0[:f*g, :].max())\n",
    "    plt.colorbar()\n",
    "\n",
    "    plt.subplot(1, 4, 2)\n",
    "    plt.title(\"UKF x̂\")\n",
    "    plt.imshow(x_hat_rand[:f*g, i].reshape((f, g)))\n",
    "    plt.clim(0, nature_no_ctrl_rand.x0[:f*g, :].max())\n",
    "    plt.colorbar()\n",
    "\n",
    "    plt.subplot(1, 4, 3)\n",
    "    plt.title(\"Observation y\")\n",
    "    plt.imshow(nature_ctrl_rand.y[:f*g, i].reshape((f, g)))\n",
    "    plt.clim(0, nature_no_ctrl_rand.x0[:f*g, :].max())\n",
    "    plt.colorbar()\n",
    "\n",
    "    plt.subplot(1, 4, 4)\n",
    "    plt.title(\"No control (ref)\")\n",
    "    plt.imshow(nature_no_ctrl_rand.x0[:f*g, i].reshape((f, g)))\n",
    "    plt.clim(0, nature_no_ctrl_rand.x0[:f*g, :].max())\n",
    "    plt.colorbar()\n"
   ]
  },
  {
   "cell_type": "markdown",
   "id": "dba14c27",
   "metadata": {},
   "source": [
    "The UKF is mostly either fully yellow and overstimating the state or underconfident and colapses to zero so we ened to fix the parameters gain and variance in flixation for the feedback."
   ]
  },
  {
   "cell_type": "code",
   "execution_count": 130,
   "id": "dc3377c4",
   "metadata": {},
   "outputs": [
    {
     "name": "stderr",
     "output_type": "stream",
     "text": [
      "100%|██████████| 800/800 [03:02<00:00,  4.39it/s]\n"
     ]
    }
   ],
   "source": [
    "gain = -0.0005\n",
    "variance_inflation_ukf = 5.0\n",
    "\n",
    "# Nature system without control (reference)\n",
    "nature_no_ctrl_rand = WilsonCowanNature(\n",
    "    ll=total_duration,\n",
    "    dT=dT,\n",
    "    dt=dt,\n",
    "    f=f,\n",
    "    g=g,\n",
    "    initial_condition=i0_random,\n",
    "    obs_noise=obs_noise,\n",
    "    run_until=total_duration - 1\n",
    ")\n",
    "\n",
    "# Nature system with control (baseline only)\n",
    "nature_ctrl_rand = WilsonCowanNature(\n",
    "    ll=total_duration,\n",
    "    dT=dT,\n",
    "    dt=dt,\n",
    "    f=f,\n",
    "    g=g,\n",
    "    initial_condition=i0_random,\n",
    "    obs_noise=obs_noise,\n",
    "    run_until=baseline_run\n",
    ")\n",
    "\n",
    "# Q matrix from baseline\n",
    "Q_par = np.array([])\n",
    "Q_var = variance_inflate * np.cov(nature_ctrl_rand.x0[:, :baseline_run])\n",
    "\n",
    "# Model and UKF\n",
    "model_rand = WilsonCowanModelWithParameterTracking(\n",
    "    f=f,\n",
    "    g=g,\n",
    "    Q_par=Q_par,\n",
    "    Q_var=Q_var,\n",
    "    R=nature_ctrl_rand.R\n",
    ")\n",
    "\n",
    "ukf_rand = ukf_voss.UKFVoss(\n",
    "    model=model_rand,\n",
    "    ll=total_duration,\n",
    "    dT=dT,\n",
    "    dt=dt,\n",
    "    variance_inflation=variance_inflation_ukf\n",
    ")\n",
    "\n",
    "# Initial Kalman filter pass\n",
    "x_hat_rand, Pxx_rand, Ks_rand, errors_rand = ukf_rand.filter(\n",
    "    nature_ctrl_rand.y,\n",
    "    initial_condition=i0_random,\n",
    "    run_until=baseline_run,\n",
    "    disable_progress=False\n",
    ")\n"
   ]
  },
  {
   "cell_type": "code",
   "execution_count": 131,
   "id": "e038a994",
   "metadata": {},
   "outputs": [
    {
     "name": "stderr",
     "output_type": "stream",
     "text": [
      "100%|██████████| 3197/3197 [13:03<00:00,  4.08it/s]\n"
     ]
    }
   ],
   "source": [
    "from tqdm import tqdm\n",
    "\n",
    "for n in tqdm(range(baseline_run + 1, total_duration - 2)):\n",
    "    if nature_ctrl_rand.current_time < n:\n",
    "        nature_ctrl_rand.integrate_solveivp(run_until=n)\n",
    "    \n",
    "    control = gain * x_hat_rand[:f * g, n - 1]\n",
    "    nature_ctrl_rand.set_control(control)\n",
    "    model_rand.set_control(control)\n",
    "    x_hat_rand, Pxx_rand, Ks_rand, errors_rand = ukf_rand.filter(\n",
    "        nature_ctrl_rand.y,\n",
    "        initial_condition=None,\n",
    "        run_until=n,\n",
    "        disable_progress=True\n",
    "    )"
   ]
  },
  {
   "cell_type": "code",
   "execution_count": null,
   "id": "0900bcc9",
   "metadata": {},
   "outputs": [
    {
     "data": {
      "application/vnd.jupyter.widget-view+json": {
       "model_id": "26c4776180dd40448fd9365d94bfc469",
       "version_major": 2,
       "version_minor": 0
      },
      "text/plain": [
       "interactive(children=(IntSlider(value=0, description='i', max=3998), Output()), _dom_classes=('widget-interact…"
      ]
     },
     "metadata": {},
     "output_type": "display_data"
    }
   ],
   "source": [
    "import ipywidgets as widgets\n",
    "import matplotlib.pyplot as plt\n",
    "\n",
    "@widgets.interact(i=(0, total_duration - 2))\n",
    "def plot_rand(i=0):\n",
    "    plt.figure(figsize=(12, 4))\n",
    "\n",
    "    plt.subplot(1, 4, 1)\n",
    "    plt.title(\"True x (controlled)\")\n",
    "    plt.imshow(nature_ctrl_rand.x0[:f*g, i].reshape((f, g)))\n",
    "    plt.clim(0, nature_no_ctrl_rand.x0[:f*g, :].max())\n",
    "    plt.colorbar()\n",
    "\n",
    "    plt.subplot(1, 4, 2)\n",
    "    plt.title(\"UKF x̂\")\n",
    "    plt.imshow(x_hat_rand[:f*g, i].reshape((f, g)))\n",
    "    plt.clim(0, nature_no_ctrl_rand.x0[:f*g, :].max())\n",
    "    plt.colorbar()\n",
    "\n",
    "    plt.subplot(1, 4, 3)\n",
    "    plt.title(\"Observation y\")\n",
    "    plt.imshow(nature_ctrl_rand.y[:f*g, i].reshape((f, g)))\n",
    "    plt.clim(0, nature_no_ctrl_rand.x0[:f*g, :].max())\n",
    "    plt.colorbar()\n",
    "\n",
    "    plt.subplot(1, 4, 4)\n",
    "    plt.title(\"No control (ref)\")\n",
    "    plt.imshow(nature_no_ctrl_rand.x0[:f*g, i].reshape((f, g)))\n",
    "    plt.clim(0, nature_no_ctrl_rand.x0[:f*g, :].max())\n",
    "    plt.colorbar()\n"
   ]
  },
  {
   "cell_type": "code",
   "execution_count": 158,
   "id": "68ebb996",
   "metadata": {},
   "outputs": [],
   "source": [
    "import numpy as np\n",
    "from Assignment6 import WilsonCowanNature\n",
    "\n",
    "# Parameters\n",
    "dT = 0.01\n",
    "dt = 0.001\n",
    "total_duration = 4000\n",
    "obs_noise = 0.2\n",
    "\n",
    "# 1D Gaussian in x-direction (horizontal)\n",
    "x = np.linspace(-1, 1, f)\n",
    "X, Y = np.meshgrid(x, x)\n",
    "u0 = 1.8 * np.exp(-X**2 / 0.1)     # Wide and strong bump\n",
    "a0 = np.zeros_like(u0)            # No initial recovery\n",
    "\n",
    "# Combine into initial condition\n",
    "i0 = np.concatenate((u0.ravel(), a0.ravel()))\n",
    "\n",
    "# Nature system only (no control, for testing)\n",
    "nature_1d_wave = WilsonCowanNature(\n",
    "    ll=total_duration,\n",
    "    dT=dT,\n",
    "    dt=dt,\n",
    "    initial_condition=i0,\n",
    "    obs_noise=obs_noise,\n",
    "    run_until=total_duration - 1\n",
    ")\n"
   ]
  },
  {
   "cell_type": "code",
   "execution_count": 159,
   "id": "7a54e02e",
   "metadata": {},
   "outputs": [
    {
     "data": {
      "application/vnd.jupyter.widget-view+json": {
       "model_id": "4251088776184684b6a726c13d72897f",
       "version_major": 2,
       "version_minor": 0
      },
      "text/plain": [
       "interactive(children=(IntSlider(value=0, description='i', max=3998), Output()), _dom_classes=('widget-interact…"
      ]
     },
     "metadata": {},
     "output_type": "display_data"
    }
   ],
   "source": [
    "@widgets.interact(i=(0, total_duration - 2))\n",
    "def plot_1d_wave(i=0):\n",
    "    plt.figure(figsize=(5, 5))\n",
    "    plt.title(f\"1D Gaussian Wave - Frame {i}\")\n",
    "    plt.imshow(nature_1d_wave.x0[:f*g, i].reshape((f, g)))\n",
    "    plt.clim(0, nature_1d_wave.x0[:f*g, :].max())\n",
    "    plt.colorbar()\n",
    "    plt.tight_layout()\n",
    "    plt.show()\n"
   ]
  },
  {
   "cell_type": "code",
   "execution_count": null,
   "id": "c057b080",
   "metadata": {},
   "outputs": [],
   "source": [
    "import numpy as np\n",
    "from Assignment6 import WilsonCowanNature\n",
    "\n",
    "# Stripe pattern: activate every other row\n",
    "u0_stripes = np.zeros((8, 8))\n",
    "u0_stripes[::2, :] = 1.0  # rows 0, 2, 4, 6 are fully active\n",
    "a0_stripes = 0.5 * u0_stripes\n",
    "\n",
    "# Combine into initial state vector\n",
    "i0_stripes = np.concatenate((u0_stripes.ravel(), a0_stripes.ravel()))\n",
    "\n",
    "# Run the nature system\n",
    "nature_stripes = WilsonCowanNature(\n",
    "    ll=4000,\n",
    "    dT=0.01,\n",
    "    dt=0.001,\n",
    "    initial_condition=i0_stripes,\n",
    "    obs_noise=0.2,\n",
    "    run_until=3999\n",
    ")"
   ]
  },
  {
   "cell_type": "code",
   "execution_count": null,
   "id": "8da97166",
   "metadata": {},
   "outputs": [
    {
     "data": {
      "application/vnd.jupyter.widget-view+json": {
       "model_id": "3e69ea8a9d6948b1831c26068cfaecc0",
       "version_major": 2,
       "version_minor": 0
      },
      "text/plain": [
       "interactive(children=(IntSlider(value=0, description='i', max=3999), Output()), _dom_classes=('widget-interact…"
      ]
     },
     "metadata": {},
     "output_type": "display_data"
    }
   ],
   "source": [
    "import matplotlib.pyplot as plt\n",
    "import ipywidgets as widgets\n",
    "\n",
    "@widgets.interact(i=(0, 3999))\n",
    "def plot_stripes(i=0):\n",
    "    plt.figure(figsize=(5, 5))\n",
    "    plt.title(f\"Horizontal Stripes - Frame {i}\")\n",
    "    plt.imshow(nature_stripes.x0[:64, i].reshape((8, 8)))\n",
    "    plt.clim(0, nature_stripes.x0[:64, :].max())\n",
    "    plt.colorbar()\n",
    "    plt.tight_layout()\n",
    "    plt.show()\n"
   ]
  },
  {
   "cell_type": "code",
   "execution_count": 151,
   "id": "0a6c35e1",
   "metadata": {},
   "outputs": [
    {
     "name": "stderr",
     "output_type": "stream",
     "text": [
      "100%|██████████| 800/800 [02:48<00:00,  4.76it/s]\n"
     ]
    }
   ],
   "source": [
    "import numpy as np\n",
    "from Assignment6 import WilsonCowanNature, WilsonCowanModelWithParameterTracking\n",
    "import ukf_voss\n",
    "\n",
    "# Parameters\n",
    "dT = 0.01\n",
    "dt = 0.001\n",
    "total_duration = 4000\n",
    "baseline_run = 800\n",
    "obs_noise = 0.2\n",
    "gain = -0.0005\n",
    "variance_inflate = 0.2\n",
    "variance_inflation_ukf = 2.0\n",
    "\n",
    "# IC: 1D Gaussian in x-direction\n",
    "x = np.linspace(-1, 1, 8)\n",
    "X, Y = np.meshgrid(x, x)\n",
    "u0_1d = 1.8 * np.exp(-X**2 / 0.1)\n",
    "a0_1d = np.zeros_like(u0_1d)\n",
    "i0_1d = np.concatenate((u0_1d.ravel(), a0_1d.ravel()))\n",
    "\n",
    "# No control (for plotting)\n",
    "nature_no_ctrl_1d = WilsonCowanNature(\n",
    "    ll=total_duration,\n",
    "    dT=dT,\n",
    "    dt=dt,\n",
    "    initial_condition=i0_1d,\n",
    "    obs_noise=obs_noise,\n",
    "    run_until=total_duration - 1\n",
    ")\n",
    "\n",
    "# Controlled system (up to baseline)\n",
    "nature_ctrl_1d = WilsonCowanNature(\n",
    "    ll=total_duration,\n",
    "    dT=dT,\n",
    "    dt=dt,\n",
    "    initial_condition=i0_1d,\n",
    "    obs_noise=obs_noise,\n",
    "    run_until=baseline_run\n",
    ")\n",
    "\n",
    "# Estimate Q\n",
    "Q_par = np.array([])\n",
    "# Q_var = variance_inflate * np.cov(nature_ctrl_1d.x0[:, :baseline_run])\n",
    "Q_var = np.diag([nature_ctrl_1d.R[0, 0] * variance_inflate] * (2 * f * g))\n",
    "\n",
    "\n",
    "# Model + UKF\n",
    "model_1d = WilsonCowanModelWithParameterTracking(\n",
    "    Q_par=Q_par,\n",
    "    Q_var=Q_var,\n",
    "    R=nature_ctrl_1d.R\n",
    ")\n",
    "\n",
    "ukf_1d = ukf_voss.UKFVoss(\n",
    "    model=model_1d,\n",
    "    ll=total_duration,\n",
    "    dT=dT,\n",
    "    dt=dt,\n",
    "    variance_inflation=variance_inflation_ukf\n",
    ")\n",
    "\n",
    "# Initial filter\n",
    "x_hat_1d, Pxx_1d, Ks_1d, errors_1d = ukf_1d.filter(\n",
    "    nature_ctrl_1d.y,\n",
    "    initial_condition=i0_1d,\n",
    "    run_until=baseline_run,\n",
    "    disable_progress=False\n",
    ")"
   ]
  },
  {
   "cell_type": "code",
   "execution_count": 152,
   "id": "2d3f69ce",
   "metadata": {},
   "outputs": [
    {
     "name": "stderr",
     "output_type": "stream",
     "text": [
      "100%|██████████| 3197/3197 [10:32<00:00,  5.06it/s]\n"
     ]
    }
   ],
   "source": [
    "from tqdm import tqdm\n",
    "\n",
    "for n in tqdm(range(baseline_run + 1, total_duration - 2)):\n",
    "    if nature_ctrl_1d.current_time < n:\n",
    "        nature_ctrl_1d.integrate_solveivp(run_until=n)\n",
    "    control = gain * x_hat_1d[:64, n - 1]\n",
    "    nature_ctrl_1d.set_control(control)\n",
    "    model_1d.set_control(control)\n",
    "    x_hat_1d, Pxx_1d, Ks_1d, errors_1d = ukf_1d.filter(\n",
    "        nature_ctrl_1d.y,\n",
    "        initial_condition=None,\n",
    "        run_until=n,\n",
    "        disable_progress=True\n",
    "    )\n"
   ]
  },
  {
   "cell_type": "code",
   "execution_count": 153,
   "id": "0d141a32",
   "metadata": {},
   "outputs": [
    {
     "data": {
      "application/vnd.jupyter.widget-view+json": {
       "model_id": "462869b5b2b0441e946a30e29593a262",
       "version_major": 2,
       "version_minor": 0
      },
      "text/plain": [
       "interactive(children=(IntSlider(value=0, description='i', max=3998), Output()), _dom_classes=('widget-interact…"
      ]
     },
     "metadata": {},
     "output_type": "display_data"
    }
   ],
   "source": [
    "import matplotlib.pyplot as plt\n",
    "import ipywidgets as widgets\n",
    "\n",
    "@widgets.interact(i=(0, total_duration - 2))\n",
    "def plot_1d_control(i=0):\n",
    "    plt.figure(figsize=(12, 4))\n",
    "\n",
    "    plt.subplot(1, 4, 1)\n",
    "    plt.title(\"True x (controlled)\")\n",
    "    plt.imshow(nature_ctrl_1d.x0[:64, i].reshape((8, 8)))\n",
    "    plt.clim(0, nature_no_ctrl_1d.x0[:64, :].max())\n",
    "    plt.colorbar()\n",
    "\n",
    "    plt.subplot(1, 4, 2)\n",
    "    plt.title(\"UKF x̂\")\n",
    "    plt.imshow(x_hat_1d[:64, i].reshape((8, 8)))\n",
    "    plt.clim(0, nature_no_ctrl_1d.x0[:64, :].max())\n",
    "    plt.colorbar()\n",
    "\n",
    "    plt.subplot(1, 4, 3)\n",
    "    plt.title(\"Observation y\")\n",
    "    plt.imshow(nature_ctrl_1d.y[:64, i].reshape((8, 8)))\n",
    "    plt.clim(0, nature_no_ctrl_1d.x0[:64, :].max())\n",
    "    plt.colorbar()\n",
    "\n",
    "    plt.subplot(1, 4, 4)\n",
    "    plt.title(\"No control (ref)\")\n",
    "    plt.imshow(nature_no_ctrl_1d.x0[:64, i].reshape((8, 8)))\n",
    "    plt.clim(0, nature_no_ctrl_1d.x0[:64, :].max())\n",
    "    plt.colorbar()\n",
    "\n",
    "    plt.tight_layout()\n",
    "    plt.show()\n"
   ]
  },
  {
   "cell_type": "markdown",
   "id": "b845c168",
   "metadata": {},
   "source": [
    "We explored three distinct initial conditions to study different spatiotemporal behaviors in the Wilson-Cowan system. A centered 2D Gaussian blob produced a localized excitation that quickly faded (t ~ 70) due to its symmetry and overlap with recovery dynamics. A random non-uniform initial condition lasted slightly longer, generating weak, irregular spatial activity that nonetheless decayed before mid-simulation. Nevertheless, an uniformity in the activity appeared early and then interesting pattern of outward to inward \"fading out\" of said activity was observed.  A 1D Gaussian profile along the x-axis led to the clearest case of a linearly propagating wave, with two fronts moving outward before dissipating near the boundaries. In the 3rd and last application of IC the UKF stops giving feedback relatively early but the system survives by itself for a long time.\n",
    "\n",
    "In all cases, wave activity was short-lived, and successful UKF tracking depended on careful tuning. As noted in the original paper, a variety of numerical strategies were necessary to stabilize the implementation, which we also had to adopt in order to prevent filter divergence (values for variance inflation might be small) and preserve sensible dynamics.\n",
    "\n",
    "Horizontal stripes, 1D Gaussian blob and uniform conditions are also illustrated above which were a part of the process of looking for interesting behaviours to implement the Kalman filter on."
   ]
  },
  {
   "cell_type": "markdown",
   "id": "20556060",
   "metadata": {},
   "source": [
    "### 4) Figures recreation"
   ]
  },
  {
   "cell_type": "code",
   "execution_count": null,
   "id": "6cdc1216",
   "metadata": {},
   "outputs": [],
   "source": [
    "u0 = np.array([\n",
    "    [-0.1637, -0.2244, -0.1982, -0.1410, -0.1029, -0.0811, -0.0656, -0.0396],\n",
    "    [-0.2593, -0.3580, -0.3021, -0.2008, -0.1321, -0.1028, -0.0840, -0.0516],\n",
    "    [-0.2444, -0.3386, -0.2746, -0.1726, -0.0950, -0.0742, -0.0637, -0.0417],\n",
    "    [-0.0055, -0.0383, 0.0012, -0.0657, -0.0395, -0.0388, -0.0387, -0.0270],\n",
    "    [0.2361, 0.3685, 0.2616, 0.2237, 0.0279, -0.0174, -0.0239, -0.0183],\n",
    "    [0.4698, 0.7002, 0.5627, 0.2726, 0.0939, -0.0071, -0.0171, -0.0135],\n",
    "    [0.3618, 0.5613, 0.4323, 0.2754, 0.0673, -0.0056, -0.0130, -0.0104],\n",
    "    [0.2442, 0.2669, 0.2571, 0.1067, 0.0152, -0.0049, -0.0077, -0.0061]\n",
    "])\n",
    "\n",
    "a0 = np.array([\n",
    "    [0.4104, 0.5339, 0.4345, 0.2786, 0.1904, 0.1454, 0.1157, 0.0694],\n",
    "    [0.7058, 0.9183, 0.6974, 0.4049, 0.2427, 0.1821, 0.1465, 0.0893],\n",
    "    [0.9263, 1.1846, 0.8515, 0.4104, 0.1757, 0.1283, 0.1085, 0.0707],\n",
    "    [1.0750, 1.4204, 1.0146, 0.4695, 0.0921, 0.0646, 0.0636, 0.0444],\n",
    "    [1.0367, 1.4612, 0.9507, 0.4993, 0.0532, 0.0309, 0.0380, 0.0293],\n",
    "    [0.7878, 1.1079, 0.7914, 0.3707, 0.0468, 0.0205, 0.0267, 0.0213],\n",
    "    [0.4156, 0.5573, 0.4218, 0.1886, 0.0255, 0.0150, 0.0202, 0.0162],\n",
    "    [0.1386, 0.1823, 0.1406, 0.0437, 0.0083, 0.0090, 0.0119, 0.0095]\n",
    "])\n",
    "# Original initial conditions of rotating waves\n",
    "i0 = np.concatenate((u0.ravel(), a0.ravel()))"
   ]
  },
  {
   "cell_type": "code",
   "execution_count": null,
   "id": "effb6e77",
   "metadata": {},
   "outputs": [
    {
     "name": "stderr",
     "output_type": "stream",
     "text": [
      "100%|██████████| 800/800 [02:44<00:00,  4.88it/s]\n"
     ]
    }
   ],
   "source": [
    "# Re-run setup for reproducing Figure 3 (Negative Gain, High Noise) after kernel reset\n",
    "\n",
    "import numpy as np\n",
    "from Assignment6 import WilsonCowanNature, WilsonCowanModelWithParameterTracking\n",
    "import ukf_voss\n",
    "\n",
    "# Parameters\n",
    "dT = 0.01\n",
    "dt = 0.001\n",
    "total_duration = 4000\n",
    "baseline_run = 800\n",
    "\n",
    "# High noise level\n",
    "obs_noise = 0.4\n",
    "gain_fig3 = -0.0006\n",
    "variance_inflate = 2.0\n",
    "variance_inflation_ukf = 5.0\n",
    "\n",
    "# Nature system: no control (for reference)\n",
    "nature_no_ctrl_fig3 = WilsonCowanNature(\n",
    "    ll=total_duration,\n",
    "    dT=dT,\n",
    "    dt=dt,\n",
    "    initial_condition=i0,\n",
    "    obs_noise=obs_noise,\n",
    "    run_until=total_duration - 1\n",
    ")\n",
    "\n",
    "# Nature system for controlled run\n",
    "nature_ctrl_fig3 = WilsonCowanNature(\n",
    "    ll=total_duration,\n",
    "    dT=dT,\n",
    "    dt=dt,\n",
    "    initial_condition=i0,\n",
    "    obs_noise=obs_noise,\n",
    "    run_until=baseline_run\n",
    ")\n",
    "\n",
    "# Q matrix: stable diagonal form\n",
    "Q_par = np.array([])\n",
    "Q_var = np.diag([nature_ctrl_fig3.R[0, 0] * variance_inflate] * (2 * f * g))\n",
    "\n",
    "# Model + UKF\n",
    "model_fig3 = WilsonCowanModelWithParameterTracking(\n",
    "    Q_par=Q_par,\n",
    "    Q_var=Q_var,\n",
    "    R=nature_ctrl_fig3.R\n",
    ")\n",
    "\n",
    "ukf_fig3 = ukf_voss.UKFVoss(\n",
    "    model=model_fig3,\n",
    "    ll=total_duration,\n",
    "    dT=dT,\n",
    "    dt=dt,\n",
    "    variance_inflation=variance_inflation_ukf\n",
    ")\n",
    "\n",
    "# Initial filter\n",
    "x_hat_fig3, Pxx_fig3, Ks_fig3, errors_fig3 = ukf_fig3.filter(\n",
    "    nature_ctrl_fig3.y,\n",
    "    initial_condition=i0,\n",
    "    run_until=baseline_run,\n",
    "    disable_progress=False\n",
    ")"
   ]
  },
  {
   "cell_type": "code",
   "execution_count": null,
   "id": "4075dabd",
   "metadata": {},
   "outputs": [
    {
     "name": "stderr",
     "output_type": "stream",
     "text": [
      " 30%|██▉       | 951/3197 [03:27<07:42,  4.85it/s]"
     ]
    }
   ],
   "source": [
    "from tqdm import tqdm\n",
    "\n",
    "for n in tqdm(range(baseline_run + 1, total_duration - 2)):\n",
    "    if nature_ctrl_fig3.current_time < n:\n",
    "        nature_ctrl_fig3.integrate_solveivp(run_until=n)\n",
    "\n",
    "    control = gain_fig3 * x_hat_fig3[:f * g, n - 1]\n",
    "\n",
    "    if not np.all(np.isfinite(control)):\n",
    "        print(f\"[STOP] Non-finite control at n={n}\")\n",
    "        break\n",
    "\n",
    "    nature_ctrl_fig3.set_control(control)\n",
    "    model_fig3.set_control(control)\n",
    "\n",
    "    x_hat_fig3, Pxx_fig3, Ks_fig3, errors_fig3 = ukf_fig3.filter(\n",
    "        nature_ctrl_fig3.y,\n",
    "        initial_condition=None,\n",
    "        run_until=n,\n",
    "        disable_progress=True\n",
    "    )"
   ]
  }
 ],
 "metadata": {
  "kernelspec": {
   "display_name": "Python 3",
   "language": "python",
   "name": "python3"
  },
  "language_info": {
   "codemirror_mode": {
    "name": "ipython",
    "version": 3
   },
   "file_extension": ".py",
   "mimetype": "text/x-python",
   "name": "python",
   "nbconvert_exporter": "python",
   "pygments_lexer": "ipython3",
   "version": "3.13.2"
  }
 },
 "nbformat": 4,
 "nbformat_minor": 5
}
